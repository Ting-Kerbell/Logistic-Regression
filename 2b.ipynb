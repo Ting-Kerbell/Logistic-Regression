{
 "cells": [
  {
   "cell_type": "code",
   "execution_count": 1,
   "metadata": {},
   "outputs": [],
   "source": [
    "import sys\n",
    "import os\n",
    "import numpy as np\n",
    "import pandas as pd\n",
    "from matplotlib import pyplot as plt\n",
    "from LRGradientDescentWithFeatureTransform import LRGDWithFeatureTransform"
   ]
  },
  {
   "cell_type": "code",
   "execution_count": 2,
   "metadata": {},
   "outputs": [],
   "source": [
    "alp_1 = pd.read_csv(\"results/alpha0001.0000_cv_scores.csv\")"
   ]
  },
  {
   "cell_type": "code",
   "execution_count": 3,
   "metadata": {},
   "outputs": [],
   "source": [
    "alp_01 = pd.read_csv(\"results/alpha0000.0100_cv_scores.csv\")\n",
    "alp_100000 = pd.read_csv(\"results/alpha100000.0000_cv_scores.csv\")\n",
    "alp_100 = pd.read_csv(\"results/alpha0100.0000_cv_scores.csv\")\n",
    "alp_0001 = pd.read_csv(\"results/alpha0000.0001_cv_scores.csv\")\n",
    "\n",
    "tr_01 = pd.read_csv(\"results/alpha0000.0100_cv_trains.csv\")\n",
    "tr_100000 = pd.read_csv(\"results/alpha100000.0000_cv_trains.csv\")\n",
    "tr_100 = pd.read_csv(\"results/alpha0100.0000_cv_trains.csv\")\n",
    "tr_0001 = pd.read_csv(\"results/alpha0000.0001_cv_trains.csv\")\n",
    "tr_1 = pd.read_csv(\"results/alpha0001.0000_cv_trains.csv\")\n",
    "alpha_list = [0.0001, 0.01, 1, 100, 100000]\n"
   ]
  },
  {
   "cell_type": "code",
   "execution_count": 4,
   "metadata": {},
   "outputs": [],
   "source": [
    "vaerr_1 = np.array(alp_1[\"error_rate\"])\n",
    "\n",
    "vaerr_100 = np.array(alp_100[\"error_rate\"])\n",
    "\n",
    "vaerr_100000 = np.array(alp_100000[\"error_rate\"])\n",
    "\n",
    "vaerr_01 = np.array(alp_01[\"error_rate\"])\n",
    "\n",
    "vaerr_0001 = np.array(alp_0001[\"error_rate\"])\n",
    "avg_list = [np.average(vaerr_0001), np.average(vaerr_01), np.average(vaerr_1), np.average(vaerr_100), np.average(vaerr_100000)]"
   ]
  },
  {
   "cell_type": "code",
   "execution_count": 5,
   "metadata": {},
   "outputs": [],
   "source": [
    "trerr_1 = np.array(tr_1[\"error_rate\"])\n",
    "\n",
    "trerr_100 = np.array(tr_100[\"error_rate\"])\n",
    "\n",
    "trerr_100000 = np.array(tr_100000[\"error_rate\"])\n",
    "\n",
    "trerr_01 = np.array(tr_01[\"error_rate\"])\n",
    "\n",
    "trerr_0001 = np.array(tr_0001[\"error_rate\"])\n",
    "\n",
    "travg_list = [np.average(trerr_0001), np.average(trerr_01), np.average(trerr_1), np.average(trerr_100), np.average(trerr_100000)]"
   ]
  },
  {
   "cell_type": "code",
   "execution_count": 8,
   "metadata": {},
   "outputs": [
    {
     "data": {
      "text/plain": [
       "Text(0.5, 1.0, 'Alpha vs avg Validation Loss')"
      ]
     },
     "execution_count": 8,
     "metadata": {},
     "output_type": "execute_result"
    },
    {
     "data": {
      "image/png": "[encoded data removed]",
      "text/plain": [
       "<Figure size 432x288 with 1 Axes>"
      ]
     },
     "metadata": {
      "needs_background": "light"
     },
     "output_type": "display_data"
    }
   ],
   "source": [
    "plt.plot(np.log10(alpha_list), avg_list, label=\"Validation error\")\n",
    "plt.plot(np.log10(alpha_list), travg_list, label =\"Training error\")\n",
    "plt.legend()\n",
    "plt.title(\"Alpha vs avg Validation Loss\")"
   ]
  },
  {
   "cell_type": "markdown",
   "metadata": {},
   "source": [
    "### Caption for 2b\n",
    "\n",
    "Include a thorough caption for the figure describing the trends you observe (any underfitting? any overfitting?). Include text describing your step size selection strategy, and discuss any trends you observed in which step size values resulted in reliable convergence as α increased.\n",
    "\n",
    "There appears to be overfitting when alpha is low, which makes sense because the penalty value alpha is low. My step size selection strategy was to start at a small step size for larger alphas, and then keep lowering it until it converged, or keep increasing it until it diverges, and then step back. For alpha = 0.0001, i chose a step size of 1.06. Alpha = .01, step_size = 1.0625. alpha = 1 step size = 0.5. alpha = 100, step_size = 0.25. Alpha = 10000, step size = 0.005. I think the general trend I saw was that as alpha increases, the step size decreases, so they are inversely proportional. \n",
    "\n",
    "    "
   ]
  },
  {
   "cell_type": "code",
   "execution_count": null,
   "metadata": {},
   "outputs": [],
   "source": []
  }
 ],
 "metadata": {
  "kernelspec": {
   "display_name": "Python 3",
   "language": "python",
   "name": "python3"
  },
  "language_info": {
   "codemirror_mode": {
    "name": "ipython",
    "version": 3
   },
   "file_extension": ".py",
   "mimetype": "text/x-python",
   "name": "python",
   "nbconvert_exporter": "python",
   "pygments_lexer": "ipython3",
   "version": "3.6.8"
  }
 },
 "nbformat": 4,
 "nbformat_minor": 2
}
