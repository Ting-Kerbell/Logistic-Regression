{
 "cells": [
  {
   "cell_type": "code",
   "execution_count": 1,
   "metadata": {},
   "outputs": [],
   "source": [
    "import sys\n",
    "import os\n",
    "import numpy as np\n",
    "import pandas as pd\n",
    "from matplotlib import pyplot as plt\n",
    "from LRGradientDescentWithFeatureTransform import LRGDWithFeatureTransform"
   ]
  },
  {
   "cell_type": "code",
   "execution_count": 2,
   "metadata": {},
   "outputs": [],
   "source": [
    "alp_1 = pd.read_csv(\"results/alpha0001.0000_cv_scores.csv\")"
   ]
  },
  {
   "cell_type": "code",
   "execution_count": 4,
   "metadata": {},
   "outputs": [],
   "source": [
    "alp_01 = pd.read_csv(\"results/alpha0000.0100_cv_scores.csv\")\n",
    "alp_100000 = pd.read_csv(\"results/alpha100000.0000_cv_scores.csv\")\n",
    "alp_100 = pd.read_csv(\"results/alpha0100.0000_cv_scores.csv\")"
   ]
  },
  {
   "cell_type": "code",
   "execution_count": 7,
   "metadata": {},
   "outputs": [
    {
     "data": {
      "text/plain": [
       "array([1, 1, 1])"
      ]
     },
     "execution_count": 7,
     "metadata": {},
     "output_type": "execute_result"
    }
   ],
   "source": [
    "vaerr_1 = np.array(alp_1[\"error_rate\"])\n",
    "a1_3 = np.full(3, 1)\n",
    "vaerr_100 = np.array(alp_100[\"error_rate\"])\n",
    "a100_3 = np.full(3, 100)\n",
    "vaerr_100000 = np.array(alp_100000[\"error_rate\"])\n",
    "a100000_3 = np.full(3, 100000)\n",
    "a1_3"
   ]
  },
  {
   "cell_type": "code",
   "execution_count": null,
   "metadata": {},
   "outputs": [],
   "source": []
  }
 ],
 "metadata": {
  "kernelspec": {
   "display_name": "Python 3",
   "language": "python",
   "name": "python3"
  },
  "language_info": {
   "codemirror_mode": {
    "name": "ipython",
    "version": 3
   },
   "file_extension": ".py",
   "mimetype": "text/x-python",
   "name": "python",
   "nbconvert_exporter": "python",
   "pygments_lexer": "ipython3",
   "version": "3.6.8"
  }
 },
 "nbformat": 4,
 "nbformat_minor": 2
}
