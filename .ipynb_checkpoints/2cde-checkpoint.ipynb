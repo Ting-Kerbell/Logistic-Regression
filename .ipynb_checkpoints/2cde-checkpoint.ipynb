{
 "cells": [
  {
   "cell_type": "code",
   "execution_count": 1,
   "metadata": {},
   "outputs": [],
   "source": [
    "import sys\n",
    "import os\n",
    "import numpy as np\n",
    "import pandas as pd\n",
    "import sklearn.metrics\n",
    "from matplotlib import pyplot as plt\n",
    "from LRGradientDescent import LogisticRegressionGradientDescent"
   ]
  },
  {
   "cell_type": "code",
   "execution_count": null,
   "metadata": {},
   "outputs": [],
   "source": []
  },
  {
   "cell_type": "code",
   "execution_count": null,
   "metadata": {},
   "outputs": [],
   "source": []
  },
  {
   "cell_type": "code",
   "execution_count": 2,
   "metadata": {},
   "outputs": [],
   "source": [
    "def calc_confusion_matrix_for_threshold(ytrue_N, yproba1_N, thresh):\n",
    "    ''' Compute the confusion matrix for a given probabilistic classifier and threshold\n",
    "    \n",
    "    Args\n",
    "    ----\n",
    "    ytrue_N : 1D array of floats\n",
    "        Each entry represents the binary value (0 or 1) of 'true' label of one example\n",
    "        One entry per example in current dataset\n",
    "    yproba1_N : 1D array of floats\n",
    "        Each entry represents a probability (between 0 and 1) that correct label is positive (1)\n",
    "        One entry per example in current dataset\n",
    "        Needs to be same size as ytrue_N\n",
    "    thresh : float\n",
    "        Scalar threshold for converting probabilities into hard decisions\n",
    "        Calls an example \"positive\" if yproba1 >= thresh\n",
    "\n",
    "    Returns\n",
    "    -------\n",
    "    cm_df : Pandas DataFrame\n",
    "        Can be printed like print(cm_df) to easily display results\n",
    "    '''\n",
    "    cm = sklearn.metrics.confusion_matrix(ytrue_N, yproba1_N >= thresh)\n",
    "    cm_df = pd.DataFrame(data=cm, columns=[0, 1], index=[0, 1])\n",
    "    cm_df.columns.name = 'Predicted'\n",
    "    cm_df.index.name = 'True'\n",
    "    return cm_df"
   ]
  },
  {
   "cell_type": "code",
   "execution_count": null,
   "metadata": {},
   "outputs": [],
   "source": []
  },
  {
   "cell_type": "code",
   "execution_count": 4,
   "metadata": {},
   "outputs": [],
   "source": [
    "step_size = 0.25\n",
    "alpha = 100\n",
    "num_iterations = 30000\n",
    "x_NF = np.loadtxt('data_digits_8_vs_9_noisy/x_train.csv',\n",
    "        skiprows=1, delimiter=',')\n",
    "y_N = np.loadtxt('data_digits_8_vs_9_noisy/y_train.csv',\n",
    "        skiprows=1, delimiter=',')\n",
    "N = y_N.size\n",
    "n_rows_per_fold = int(np.ceil(N / float(3))) * np.ones(3, dtype=np.int32)\n",
    "n_surplus = np.sum(n_rows_per_fold) - N\n",
    "if n_surplus > 0:\n",
    "    n_rows_per_fold[-n_surplus:] -= 1\n",
    "fold_boundaries = np.hstack([0, np.cumsum(n_rows_per_fold)])\n",
    "start_per_fold = fold_boundaries[:-1]\n",
    "stop_per_fold = fold_boundaries[1:]\n",
    "cur_alpha_score_dict_list = list()\n"
   ]
  },
  {
   "cell_type": "code",
   "execution_count": 35,
   "metadata": {},
   "outputs": [
    {
     "name": "stdout",
     "output_type": "stream",
     "text": [
      "Initializing w_G with 785 features using recipe: zeros\n",
      "Running up to 30000 iters of gradient descent with step_size 0.25\n",
      "iter    0/30000  loss         1.000000  avg_L1_norm_grad         0.025008  w[0]    0.000 bias    0.000\n",
      "iter    1/30000  loss         0.742611  avg_L1_norm_grad         0.038237  w[0]   -0.001 bias    0.000\n",
      "iter    2/30000  loss         1.192841  avg_L1_norm_grad         0.121471  w[0]    0.003 bias    0.048\n",
      "iter    3/30000  loss         3.692822  avg_L1_norm_grad         0.150124  w[0]   -0.010 bias   -0.078\n",
      "iter    4/30000  loss         2.006077  avg_L1_norm_grad         0.151750  w[0]    0.007 bias    0.101\n",
      "iter    5/30000  loss         3.100312  avg_L1_norm_grad         0.147756  w[0]   -0.010 bias   -0.060\n",
      "iter    6/30000  loss         1.387247  avg_L1_norm_grad         0.123995  w[0]    0.007 bias    0.116\n",
      "iter    7/30000  loss         1.547922  avg_L1_norm_grad         0.118207  w[0]   -0.007 bias   -0.015\n",
      "iter    8/30000  loss         0.981332  avg_L1_norm_grad         0.092884  w[0]    0.006 bias    0.126\n",
      "iter    9/30000  loss         0.641572  avg_L1_norm_grad         0.059066  w[0]   -0.004 bias    0.029\n",
      "iter   10/30000  loss         0.330894  avg_L1_norm_grad         0.023710  w[0]    0.002 bias    0.100\n",
      "iter   11/30000  loss         0.267509  avg_L1_norm_grad         0.007512  w[0]   -0.000 bias    0.076\n",
      "iter   12/30000  loss         0.257253  avg_L1_norm_grad         0.002773  w[0]    0.000 bias    0.086\n",
      "iter   13/30000  loss         0.253722  avg_L1_norm_grad         0.002547  w[0]    0.000 bias    0.087\n",
      "iter   14/30000  loss         0.250813  avg_L1_norm_grad         0.002359  w[0]    0.000 bias    0.090\n",
      "iter   15/30000  loss         0.248181  avg_L1_norm_grad         0.002281  w[0]   -0.000 bias    0.092\n",
      "iter   16/30000  loss         0.245777  avg_L1_norm_grad         0.002192  w[0]   -0.000 bias    0.094\n",
      "iter   17/30000  loss         0.243572  avg_L1_norm_grad         0.002114  w[0]   -0.000 bias    0.096\n",
      "iter   18/30000  loss         0.241542  avg_L1_norm_grad         0.002041  w[0]   -0.000 bias    0.098\n",
      "iter   19/30000  loss         0.239668  avg_L1_norm_grad         0.001974  w[0]   -0.001 bias    0.100\n",
      "iter   20/30000  loss         0.237931  avg_L1_norm_grad         0.001912  w[0]   -0.001 bias    0.102\n",
      "iter   21/30000  loss         0.236316  avg_L1_norm_grad         0.001855  w[0]   -0.001 bias    0.104\n",
      "iter   40/30000  loss         0.218364  avg_L1_norm_grad         0.001195  w[0]   -0.004 bias    0.137\n",
      "iter   41/30000  loss         0.217801  avg_L1_norm_grad         0.001172  w[0]   -0.004 bias    0.138\n",
      "iter   60/30000  loss         0.210329  avg_L1_norm_grad         0.000852  w[0]   -0.007 bias    0.163\n",
      "iter   61/30000  loss         0.210057  avg_L1_norm_grad         0.000840  w[0]   -0.007 bias    0.164\n",
      "iter   80/30000  loss         0.206208  avg_L1_norm_grad         0.000645  w[0]   -0.009 bias    0.183\n",
      "iter   81/30000  loss         0.206059  avg_L1_norm_grad         0.000637  w[0]   -0.009 bias    0.184\n",
      "iter  100/30000  loss         0.203844  avg_L1_norm_grad         0.000508  w[0]   -0.011 bias    0.200\n",
      "iter  101/30000  loss         0.203754  avg_L1_norm_grad         0.000503  w[0]   -0.011 bias    0.201\n",
      "iter  120/30000  loss         0.202386  avg_L1_norm_grad         0.000409  w[0]   -0.012 bias    0.214\n",
      "iter  121/30000  loss         0.202328  avg_L1_norm_grad         0.000405  w[0]   -0.012 bias    0.214\n",
      "iter  140/30000  loss         0.201442  avg_L1_norm_grad         0.000334  w[0]   -0.014 bias    0.225\n",
      "iter  141/30000  loss         0.201405  avg_L1_norm_grad         0.000331  w[0]   -0.014 bias    0.225\n",
      "iter  160/30000  loss         0.200812  avg_L1_norm_grad         0.000277  w[0]   -0.015 bias    0.234\n",
      "iter  161/30000  loss         0.200786  avg_L1_norm_grad         0.000274  w[0]   -0.015 bias    0.235\n",
      "iter  180/30000  loss         0.200379  avg_L1_norm_grad         0.000231  w[0]   -0.016 bias    0.242\n",
      "iter  181/30000  loss         0.200362  avg_L1_norm_grad         0.000229  w[0]   -0.016 bias    0.242\n",
      "iter  200/30000  loss         0.200077  avg_L1_norm_grad         0.000195  w[0]   -0.017 bias    0.249\n",
      "iter  201/30000  loss         0.200064  avg_L1_norm_grad         0.000193  w[0]   -0.017 bias    0.249\n",
      "iter  220/30000  loss         0.199862  avg_L1_norm_grad         0.000165  w[0]   -0.017 bias    0.255\n",
      "iter  221/30000  loss         0.199853  avg_L1_norm_grad         0.000164  w[0]   -0.017 bias    0.255\n",
      "iter  240/30000  loss         0.199707  avg_L1_norm_grad         0.000141  w[0]   -0.018 bias    0.260\n",
      "iter  241/30000  loss         0.199701  avg_L1_norm_grad         0.000140  w[0]   -0.018 bias    0.260\n",
      "iter  260/30000  loss         0.199595  avg_L1_norm_grad         0.000121  w[0]   -0.018 bias    0.264\n",
      "iter  261/30000  loss         0.199590  avg_L1_norm_grad         0.000120  w[0]   -0.018 bias    0.264\n",
      "iter  280/30000  loss         0.199512  avg_L1_norm_grad         0.000104  w[0]   -0.019 bias    0.268\n",
      "iter  281/30000  loss         0.199508  avg_L1_norm_grad         0.000103  w[0]   -0.019 bias    0.268\n",
      "iter  300/30000  loss         0.199450  avg_L1_norm_grad         0.000090  w[0]   -0.019 bias    0.271\n",
      "iter  301/30000  loss         0.199447  avg_L1_norm_grad         0.000089  w[0]   -0.019 bias    0.271\n",
      "iter  320/30000  loss         0.199404  avg_L1_norm_grad         0.000078  w[0]   -0.019 bias    0.274\n",
      "iter  321/30000  loss         0.199402  avg_L1_norm_grad         0.000077  w[0]   -0.019 bias    0.274\n",
      "iter  340/30000  loss         0.199369  avg_L1_norm_grad         0.000068  w[0]   -0.020 bias    0.277\n",
      "iter  341/30000  loss         0.199368  avg_L1_norm_grad         0.000067  w[0]   -0.020 bias    0.277\n",
      "iter  360/30000  loss         0.199343  avg_L1_norm_grad         0.000059  w[0]   -0.020 bias    0.279\n",
      "iter  361/30000  loss         0.199342  avg_L1_norm_grad         0.000059  w[0]   -0.020 bias    0.279\n",
      "iter  380/30000  loss         0.199323  avg_L1_norm_grad         0.000052  w[0]   -0.020 bias    0.281\n",
      "iter  381/30000  loss         0.199322  avg_L1_norm_grad         0.000051  w[0]   -0.020 bias    0.281\n",
      "iter  400/30000  loss         0.199308  avg_L1_norm_grad         0.000045  w[0]   -0.020 bias    0.283\n",
      "iter  401/30000  loss         0.199307  avg_L1_norm_grad         0.000045  w[0]   -0.020 bias    0.283\n",
      "iter  420/30000  loss         0.199296  avg_L1_norm_grad         0.000040  w[0]   -0.020 bias    0.284\n",
      "iter  421/30000  loss         0.199296  avg_L1_norm_grad         0.000040  w[0]   -0.020 bias    0.284\n",
      "iter  440/30000  loss         0.199287  avg_L1_norm_grad         0.000035  w[0]   -0.020 bias    0.286\n",
      "iter  441/30000  loss         0.199287  avg_L1_norm_grad         0.000035  w[0]   -0.020 bias    0.286\n",
      "iter  460/30000  loss         0.199280  avg_L1_norm_grad         0.000031  w[0]   -0.021 bias    0.287\n",
      "iter  461/30000  loss         0.199280  avg_L1_norm_grad         0.000031  w[0]   -0.021 bias    0.287\n",
      "iter  480/30000  loss         0.199275  avg_L1_norm_grad         0.000027  w[0]   -0.021 bias    0.288\n",
      "iter  481/30000  loss         0.199275  avg_L1_norm_grad         0.000027  w[0]   -0.021 bias    0.288\n",
      "iter  500/30000  loss         0.199271  avg_L1_norm_grad         0.000024  w[0]   -0.021 bias    0.289\n",
      "iter  501/30000  loss         0.199271  avg_L1_norm_grad         0.000024  w[0]   -0.021 bias    0.289\n",
      "iter  520/30000  loss         0.199268  avg_L1_norm_grad         0.000021  w[0]   -0.021 bias    0.290\n",
      "iter  521/30000  loss         0.199267  avg_L1_norm_grad         0.000021  w[0]   -0.021 bias    0.290\n",
      "iter  540/30000  loss         0.199265  avg_L1_norm_grad         0.000019  w[0]   -0.021 bias    0.291\n",
      "iter  541/30000  loss         0.199265  avg_L1_norm_grad         0.000019  w[0]   -0.021 bias    0.291\n",
      "iter  560/30000  loss         0.199263  avg_L1_norm_grad         0.000017  w[0]   -0.021 bias    0.292\n",
      "iter  561/30000  loss         0.199263  avg_L1_norm_grad         0.000016  w[0]   -0.021 bias    0.292\n",
      "iter  580/30000  loss         0.199262  avg_L1_norm_grad         0.000015  w[0]   -0.021 bias    0.292\n",
      "iter  581/30000  loss         0.199262  avg_L1_norm_grad         0.000015  w[0]   -0.021 bias    0.292\n",
      "iter  600/30000  loss         0.199260  avg_L1_norm_grad         0.000013  w[0]   -0.021 bias    0.293\n",
      "iter  601/30000  loss         0.199260  avg_L1_norm_grad         0.000013  w[0]   -0.021 bias    0.293\n"
     ]
    },
    {
     "name": "stdout",
     "output_type": "stream",
     "text": [
      "iter  620/30000  loss         0.199259  avg_L1_norm_grad         0.000011  w[0]   -0.021 bias    0.293\n",
      "iter  621/30000  loss         0.199259  avg_L1_norm_grad         0.000011  w[0]   -0.021 bias    0.293\n",
      "iter  640/30000  loss         0.199259  avg_L1_norm_grad         0.000010  w[0]   -0.021 bias    0.294\n",
      "iter  641/30000  loss         0.199259  avg_L1_norm_grad         0.000010  w[0]   -0.021 bias    0.294\n",
      "iter  660/30000  loss         0.199258  avg_L1_norm_grad         0.000009  w[0]   -0.021 bias    0.294\n",
      "iter  661/30000  loss         0.199258  avg_L1_norm_grad         0.000009  w[0]   -0.021 bias    0.294\n",
      "iter  680/30000  loss         0.199258  avg_L1_norm_grad         0.000008  w[0]   -0.021 bias    0.295\n",
      "iter  681/30000  loss         0.199258  avg_L1_norm_grad         0.000008  w[0]   -0.021 bias    0.295\n",
      "iter  700/30000  loss         0.199257  avg_L1_norm_grad         0.000007  w[0]   -0.021 bias    0.295\n",
      "iter  701/30000  loss         0.199257  avg_L1_norm_grad         0.000007  w[0]   -0.021 bias    0.295\n",
      "iter  720/30000  loss         0.199257  avg_L1_norm_grad         0.000006  w[0]   -0.021 bias    0.295\n",
      "iter  721/30000  loss         0.199257  avg_L1_norm_grad         0.000006  w[0]   -0.021 bias    0.295\n",
      "iter  740/30000  loss         0.199257  avg_L1_norm_grad         0.000006  w[0]   -0.021 bias    0.296\n",
      "iter  741/30000  loss         0.199257  avg_L1_norm_grad         0.000006  w[0]   -0.021 bias    0.296\n",
      "iter  760/30000  loss         0.199257  avg_L1_norm_grad         0.000005  w[0]   -0.021 bias    0.296\n",
      "iter  761/30000  loss         0.199257  avg_L1_norm_grad         0.000005  w[0]   -0.021 bias    0.296\n",
      "iter  780/30000  loss         0.199256  avg_L1_norm_grad         0.000004  w[0]   -0.021 bias    0.296\n",
      "iter  781/30000  loss         0.199256  avg_L1_norm_grad         0.000004  w[0]   -0.021 bias    0.296\n",
      "iter  800/30000  loss         0.199256  avg_L1_norm_grad         0.000004  w[0]   -0.021 bias    0.296\n",
      "iter  801/30000  loss         0.199256  avg_L1_norm_grad         0.000004  w[0]   -0.021 bias    0.296\n",
      "iter  820/30000  loss         0.199256  avg_L1_norm_grad         0.000003  w[0]   -0.021 bias    0.297\n",
      "iter  821/30000  loss         0.199256  avg_L1_norm_grad         0.000003  w[0]   -0.021 bias    0.297\n",
      "iter  840/30000  loss         0.199256  avg_L1_norm_grad         0.000003  w[0]   -0.021 bias    0.297\n",
      "iter  841/30000  loss         0.199256  avg_L1_norm_grad         0.000003  w[0]   -0.021 bias    0.297\n",
      "Done. Converged after 853 iterations.\n"
     ]
    }
   ],
   "source": [
    "fold_start = start_per_fold[0]\n",
    "fold_stop = stop_per_fold[0]\n",
    "all_score_dict_list = list()\n",
    "\n",
    "\n",
    "x_tr_NF = np.vstack([x_NF[:fold_start], x_NF[fold_stop:]])\n",
    "y_tr_N = np.hstack([y_N[:fold_start], y_N[fold_stop:]])\n",
    "x_va_NF = x_NF[fold_start:fold_stop].copy()\n",
    "y_va_N = y_N[fold_start:fold_stop].copy()\n",
    "lr = LogisticRegressionGradientDescent(\n",
    "                step_size=step_size, alpha=alpha,\n",
    "                num_iterations=num_iterations,\n",
    "                init_w_recipe='zeros')\n",
    "lr.fit(x_tr_NF, y_tr_N)\n",
    "\n",
    "yproba1_va_N = lr.predict_proba(x_va_NF)[:,1]\n",
    "va_score_dict = dict(\n",
    "                alpha=alpha,\n",
    "                fold_id=1,\n",
    "                auroc=sklearn.metrics.roc_auc_score(y_va_N, yproba1_va_N),\n",
    "                error_rate=sklearn.metrics.zero_one_loss(y_va_N, yproba1_va_N >= 0.5),\n",
    "                log_loss=sklearn.metrics.log_loss(y_va_N, yproba1_va_N),\n",
    "                did_converge=int(lr.did_converge),\n",
    "                L1_norm_grad=lr.trace_L1_norm_of_grad[-1],\n",
    "                step_size=step_size,\n",
    "                )\n",
    "cur_alpha_score_dict_list.append(va_score_dict)\n",
    "all_score_dict_list.append(va_score_dict)"
   ]
  },
  {
   "cell_type": "code",
   "execution_count": 33,
   "metadata": {},
   "outputs": [
    {
     "data": {
      "text/html": [
       "<div>\n",
       "<style scoped>\n",
       "    .dataframe tbody tr th:only-of-type {\n",
       "        vertical-align: middle;\n",
       "    }\n",
       "\n",
       "    .dataframe tbody tr th {\n",
       "        vertical-align: top;\n",
       "    }\n",
       "\n",
       "    .dataframe thead th {\n",
       "        text-align: right;\n",
       "    }\n",
       "</style>\n",
       "<table border=\"1\" class=\"dataframe\">\n",
       "  <thead>\n",
       "    <tr style=\"text-align: right;\">\n",
       "      <th>Predicted</th>\n",
       "      <th>0</th>\n",
       "      <th>1</th>\n",
       "    </tr>\n",
       "    <tr>\n",
       "      <th>True</th>\n",
       "      <th></th>\n",
       "      <th></th>\n",
       "    </tr>\n",
       "  </thead>\n",
       "  <tbody>\n",
       "    <tr>\n",
       "      <th>0</th>\n",
       "      <td>1860</td>\n",
       "      <td>62</td>\n",
       "    </tr>\n",
       "    <tr>\n",
       "      <th>1</th>\n",
       "      <td>69</td>\n",
       "      <td>1943</td>\n",
       "    </tr>\n",
       "  </tbody>\n",
       "</table>\n",
       "</div>"
      ],
      "text/plain": [
       "Predicted     0     1\n",
       "True                 \n",
       "0          1860    62\n",
       "1            69  1943"
      ]
     },
     "execution_count": 33,
     "metadata": {},
     "output_type": "execute_result"
    }
   ],
   "source": [
    "calc_confusion_matrix_for_threshold(y_va_N, yproba1_va_N, 0.5)"
   ]
  },
  {
   "cell_type": "code",
   "execution_count": 70,
   "metadata": {},
   "outputs": [],
   "source": [
    "FP_N = np.logical_and(y_va_N < 0.5, yproba1_va_N >= 0.5)\n",
    "FN_N = np.logical_and(y_va_N > 0.5, yproba1_va_N < 0.5)"
   ]
  },
  {
   "cell_type": "code",
   "execution_count": 71,
   "metadata": {},
   "outputs": [],
   "source": [
    "FP_loc_N = np.argwhere(FP_N == True)\n",
    "FN_loc_N = np.argwhere(FN_N == True)"
   ]
  },
  {
   "cell_type": "code",
   "execution_count": 112,
   "metadata": {},
   "outputs": [
    {
     "data": {
      "image/png": "[encoded data removed]",
      "text/plain": [
       "<Figure size 432x288 with 9 Axes>"
      ]
     },
     "metadata": {
      "needs_background": "light"
     },
     "output_type": "display_data"
    }
   ],
   "source": [
    "f, axlist = plt.subplots(1, 9, sharex=False)\n",
    "f.suptitle('9 False Positives', fontsize=16)\n",
    "for i in range(9):\n",
    "    axlist[i].imshow(x_va_NF[FP_loc_N[i]].reshape(28,28), cmap=\"gray\", vmin=0.0, vmax=1.0)"
   ]
  },
  {
   "cell_type": "markdown",
   "metadata": {},
   "source": [
    "### 2C Caption, False Positives\n",
    "\n",
    "I think these plots were labeled as 9s because it seems to focus on the upper loop as well as the line descending on the right. I think that if there is a line right below the loop, it looks somewhat like a 9, and therefore wil classify it as a 9 even though a bottom loop exists. Therefore, I think it is placing emphasis on certain areas of the picture, while other areas may need higher weights. "
   ]
  },
  {
   "cell_type": "code",
   "execution_count": 117,
   "metadata": {},
   "outputs": [
    {
     "data": {
      "image/png": "[encoded data removed]",
      "text/plain": [
       "<Figure size 432x288 with 9 Axes>"
      ]
     },
     "metadata": {
      "needs_background": "light"
     },
     "output_type": "display_data"
    }
   ],
   "source": [
    "f, axlist = plt.subplots(1, 9, sharex=False)\n",
    "f.suptitle('9 False Negatives', fontsize=16)\n",
    "for i in range(9):\n",
    "    axlist[i].imshow(x_va_NF[FN_loc_N[i]].reshape(28,28), cmap=\"gray\", vmin=0.0, vmax=1.0)\n"
   ]
  },
  {
   "cell_type": "code",
   "execution_count": null,
   "metadata": {},
   "outputs": [],
   "source": []
  },
  {
   "cell_type": "markdown",
   "metadata": {},
   "source": [
    "### Caption for 2C, False Negatives\n",
    "The mistakes my regression seems to make in terms of false negatives is the presence of some sort of either some sort of loop or the presence of a diagonal line on the bottom of the digit. In a normal 9, the bottom does not descend in a diagonal fashion, so my classifier seems to emphasize this in classifying whether or not a digit is a 8 or 9. Potentially, it may classify pictures as 8 based on curves present on the bottom half of the picture. "
   ]
  },
  {
   "cell_type": "markdown",
   "metadata": {},
   "source": [
    "### Plot for 2D"
   ]
  },
  {
   "cell_type": "code",
   "execution_count": 100,
   "metadata": {},
   "outputs": [
    {
     "data": {
      "text/plain": [
       "<matplotlib.colorbar.Colorbar at 0x1d62d4eb7f0>"
      ]
     },
     "execution_count": 100,
     "metadata": {},
     "output_type": "execute_result"
    },
    {
     "data": {
      "image/png": "[encoded data removed]",
      "text/plain": [
       "<Figure size 432x288 with 2 Axes>"
      ]
     },
     "metadata": {
      "needs_background": "light"
     },
     "output_type": "display_data"
    }
   ],
   "source": [
    "w_F = lr.w_G[:lr.w_G.shape[0]-1]\n",
    "plt.imshow(w_F.reshape(28,28), cmap='RdYlBu', vmin=-0.5, vmax=0.5)\n",
    "plt.colorbar()\n",
    "#SHow For fold 1"
   ]
  },
  {
   "cell_type": "markdown",
   "metadata": {},
   "source": [
    "### Caption for 2D\n",
    "\n",
    "I noticed that the center is heavily concentrated in deciding whether or not the digit is an 8 or 9. According to the color map, it appears that curves present on the bottom of the picture will most likely classify a picture as an 8. What seems to have the largest weight in the picture seems to be a vertical line present to the right of the center of the photo, which makes some sense because a 9 versus an 8 seems to have a vertical line descending straight down right below the top loop, while the 8 does not. TO clarify, yellow means 9, blue means 8.  "
   ]
  },
  {
   "cell_type": "markdown",
   "metadata": {},
   "source": [
    "### 2E Code\n"
   ]
  },
  {
   "cell_type": "code",
   "execution_count": 5,
   "metadata": {},
   "outputs": [
    {
     "name": "stdout",
     "output_type": "stream",
     "text": [
      "Initializing w_G with 785 features using recipe: zeros\n",
      "Running up to 10000 iters of gradient descent with step_size 0.25\n",
      "iter    0/10000  loss         1.000000  avg_L1_norm_grad         0.024599  w[0]    0.000 bias    0.000\n",
      "iter    1/10000  loss         0.734119  avg_L1_norm_grad         0.033659  w[0]   -0.000 bias    0.001\n",
      "iter    2/10000  loss         1.037097  avg_L1_norm_grad         0.108691  w[0]    0.003 bias    0.043\n",
      "iter    3/10000  loss         3.338104  avg_L1_norm_grad         0.150644  w[0]   -0.008 bias   -0.069\n",
      "iter    4/10000  loss         2.469970  avg_L1_norm_grad         0.158324  w[0]    0.009 bias    0.110\n",
      "iter    5/10000  loss         3.023285  avg_L1_norm_grad         0.148645  w[0]   -0.008 bias   -0.058\n",
      "iter    6/10000  loss         1.521529  avg_L1_norm_grad         0.129499  w[0]    0.009 bias    0.118\n",
      "iter    7/10000  loss         1.644473  avg_L1_norm_grad         0.122608  w[0]   -0.005 bias   -0.018\n",
      "iter    8/10000  loss         1.037744  avg_L1_norm_grad         0.096185  w[0]    0.009 bias    0.127\n",
      "iter    9/10000  loss         0.652127  avg_L1_norm_grad         0.060974  w[0]   -0.001 bias    0.026\n",
      "iter   10/10000  loss         0.330695  avg_L1_norm_grad         0.025105  w[0]    0.006 bias    0.099\n",
      "iter   11/10000  loss         0.258904  avg_L1_norm_grad         0.007701  w[0]    0.003 bias    0.074\n",
      "iter   12/10000  loss         0.248131  avg_L1_norm_grad         0.002773  w[0]    0.004 bias    0.085\n",
      "iter   13/10000  loss         0.244506  avg_L1_norm_grad         0.002591  w[0]    0.003 bias    0.085\n",
      "iter   14/10000  loss         0.241506  avg_L1_norm_grad         0.002411  w[0]    0.003 bias    0.088\n",
      "iter   15/10000  loss         0.238781  avg_L1_norm_grad         0.002333  w[0]    0.003 bias    0.090\n",
      "iter   16/10000  loss         0.236283  avg_L1_norm_grad         0.002247  w[0]    0.003 bias    0.092\n",
      "iter   17/10000  loss         0.233982  avg_L1_norm_grad         0.002172  w[0]    0.003 bias    0.094\n",
      "iter   18/10000  loss         0.231856  avg_L1_norm_grad         0.002102  w[0]    0.003 bias    0.097\n",
      "iter   19/10000  loss         0.229884  avg_L1_norm_grad         0.002037  w[0]    0.003 bias    0.099\n",
      "iter   20/10000  loss         0.228047  avg_L1_norm_grad         0.001978  w[0]    0.003 bias    0.101\n",
      "iter   21/10000  loss         0.226333  avg_L1_norm_grad         0.001922  w[0]    0.003 bias    0.103\n",
      "iter   40/10000  loss         0.206485  avg_L1_norm_grad         0.001283  w[0]    0.000 bias    0.137\n",
      "iter   41/10000  loss         0.205829  avg_L1_norm_grad         0.001261  w[0]   -0.000 bias    0.138\n",
      "iter   60/10000  loss         0.196802  avg_L1_norm_grad         0.000945  w[0]   -0.003 bias    0.165\n",
      "iter   61/10000  loss         0.196460  avg_L1_norm_grad         0.000932  w[0]   -0.003 bias    0.166\n",
      "iter   80/10000  loss         0.191454  avg_L1_norm_grad         0.000736  w[0]   -0.005 bias    0.188\n",
      "iter   81/10000  loss         0.191252  avg_L1_norm_grad         0.000728  w[0]   -0.005 bias    0.189\n",
      "iter  100/10000  loss         0.188179  avg_L1_norm_grad         0.000596  w[0]   -0.007 bias    0.207\n",
      "iter  101/10000  loss         0.188050  avg_L1_norm_grad         0.000590  w[0]   -0.007 bias    0.208\n",
      "iter  120/10000  loss         0.186034  avg_L1_norm_grad         0.000493  w[0]   -0.009 bias    0.223\n",
      "iter  121/10000  loss         0.185947  avg_L1_norm_grad         0.000489  w[0]   -0.009 bias    0.224\n",
      "iter  140/10000  loss         0.184563  avg_L1_norm_grad         0.000415  w[0]   -0.011 bias    0.237\n",
      "iter  141/10000  loss         0.184502  avg_L1_norm_grad         0.000412  w[0]   -0.011 bias    0.237\n",
      "iter  160/10000  loss         0.183520  avg_L1_norm_grad         0.000354  w[0]   -0.013 bias    0.249\n",
      "iter  161/10000  loss         0.183476  avg_L1_norm_grad         0.000352  w[0]   -0.013 bias    0.249\n",
      "iter  180/10000  loss         0.182762  avg_L1_norm_grad         0.000305  w[0]   -0.014 bias    0.259\n",
      "iter  181/10000  loss         0.182730  avg_L1_norm_grad         0.000303  w[0]   -0.014 bias    0.260\n",
      "iter  200/10000  loss         0.182201  avg_L1_norm_grad         0.000265  w[0]   -0.016 bias    0.269\n",
      "iter  201/10000  loss         0.182177  avg_L1_norm_grad         0.000263  w[0]   -0.016 bias    0.269\n",
      "iter  220/10000  loss         0.181779  avg_L1_norm_grad         0.000232  w[0]   -0.017 bias    0.277\n",
      "iter  221/10000  loss         0.181761  avg_L1_norm_grad         0.000230  w[0]   -0.017 bias    0.277\n",
      "iter  240/10000  loss         0.181457  avg_L1_norm_grad         0.000204  w[0]   -0.018 bias    0.284\n",
      "iter  241/10000  loss         0.181443  avg_L1_norm_grad         0.000202  w[0]   -0.018 bias    0.285\n",
      "iter  260/10000  loss         0.181209  avg_L1_norm_grad         0.000180  w[0]   -0.019 bias    0.291\n",
      "iter  261/10000  loss         0.181199  avg_L1_norm_grad         0.000179  w[0]   -0.019 bias    0.291\n",
      "iter  280/10000  loss         0.181016  avg_L1_norm_grad         0.000159  w[0]   -0.020 bias    0.297\n",
      "iter  281/10000  loss         0.181008  avg_L1_norm_grad         0.000158  w[0]   -0.020 bias    0.297\n",
      "iter  300/10000  loss         0.180865  avg_L1_norm_grad         0.000142  w[0]   -0.021 bias    0.302\n",
      "iter  301/10000  loss         0.180858  avg_L1_norm_grad         0.000141  w[0]   -0.021 bias    0.303\n",
      "iter  320/10000  loss         0.180745  avg_L1_norm_grad         0.000127  w[0]   -0.021 bias    0.307\n",
      "iter  321/10000  loss         0.180740  avg_L1_norm_grad         0.000126  w[0]   -0.021 bias    0.308\n",
      "iter  340/10000  loss         0.180650  avg_L1_norm_grad         0.000113  w[0]   -0.022 bias    0.312\n",
      "iter  341/10000  loss         0.180645  avg_L1_norm_grad         0.000113  w[0]   -0.022 bias    0.312\n",
      "iter  360/10000  loss         0.180573  avg_L1_norm_grad         0.000102  w[0]   -0.023 bias    0.316\n",
      "iter  361/10000  loss         0.180570  avg_L1_norm_grad         0.000101  w[0]   -0.023 bias    0.316\n",
      "iter  380/10000  loss         0.180511  avg_L1_norm_grad         0.000091  w[0]   -0.023 bias    0.320\n",
      "iter  381/10000  loss         0.180509  avg_L1_norm_grad         0.000091  w[0]   -0.023 bias    0.320\n",
      "iter  400/10000  loss         0.180462  avg_L1_norm_grad         0.000082  w[0]   -0.024 bias    0.323\n",
      "iter  401/10000  loss         0.180459  avg_L1_norm_grad         0.000082  w[0]   -0.024 bias    0.323\n",
      "iter  420/10000  loss         0.180421  avg_L1_norm_grad         0.000074  w[0]   -0.024 bias    0.326\n",
      "iter  421/10000  loss         0.180419  avg_L1_norm_grad         0.000074  w[0]   -0.024 bias    0.326\n",
      "iter  440/10000  loss         0.180388  avg_L1_norm_grad         0.000067  w[0]   -0.025 bias    0.329\n",
      "iter  441/10000  loss         0.180387  avg_L1_norm_grad         0.000067  w[0]   -0.025 bias    0.329\n",
      "iter  460/10000  loss         0.180361  avg_L1_norm_grad         0.000061  w[0]   -0.025 bias    0.331\n",
      "iter  461/10000  loss         0.180360  avg_L1_norm_grad         0.000061  w[0]   -0.025 bias    0.332\n",
      "iter  480/10000  loss         0.180339  avg_L1_norm_grad         0.000055  w[0]   -0.025 bias    0.334\n",
      "iter  481/10000  loss         0.180338  avg_L1_norm_grad         0.000055  w[0]   -0.025 bias    0.334\n",
      "iter  500/10000  loss         0.180320  avg_L1_norm_grad         0.000050  w[0]   -0.025 bias    0.336\n",
      "iter  501/10000  loss         0.180320  avg_L1_norm_grad         0.000050  w[0]   -0.025 bias    0.336\n",
      "iter  520/10000  loss         0.180305  avg_L1_norm_grad         0.000046  w[0]   -0.026 bias    0.338\n",
      "iter  521/10000  loss         0.180305  avg_L1_norm_grad         0.000046  w[0]   -0.026 bias    0.338\n",
      "iter  540/10000  loss         0.180293  avg_L1_norm_grad         0.000042  w[0]   -0.026 bias    0.340\n",
      "iter  541/10000  loss         0.180292  avg_L1_norm_grad         0.000041  w[0]   -0.026 bias    0.340\n",
      "iter  560/10000  loss         0.180282  avg_L1_norm_grad         0.000038  w[0]   -0.026 bias    0.342\n",
      "iter  561/10000  loss         0.180282  avg_L1_norm_grad         0.000038  w[0]   -0.026 bias    0.342\n",
      "iter  580/10000  loss         0.180274  avg_L1_norm_grad         0.000035  w[0]   -0.026 bias    0.344\n",
      "iter  581/10000  loss         0.180273  avg_L1_norm_grad         0.000034  w[0]   -0.026 bias    0.344\n",
      "iter  600/10000  loss         0.180267  avg_L1_norm_grad         0.000032  w[0]   -0.026 bias    0.345\n",
      "iter  601/10000  loss         0.180266  avg_L1_norm_grad         0.000031  w[0]   -0.027 bias    0.345\n"
     ]
    },
    {
     "name": "stdout",
     "output_type": "stream",
     "text": [
      "iter  620/10000  loss         0.180261  avg_L1_norm_grad         0.000029  w[0]   -0.027 bias    0.346\n",
      "iter  621/10000  loss         0.180260  avg_L1_norm_grad         0.000029  w[0]   -0.027 bias    0.347\n",
      "iter  640/10000  loss         0.180256  avg_L1_norm_grad         0.000026  w[0]   -0.027 bias    0.348\n",
      "iter  641/10000  loss         0.180255  avg_L1_norm_grad         0.000026  w[0]   -0.027 bias    0.348\n",
      "iter  660/10000  loss         0.180252  avg_L1_norm_grad         0.000024  w[0]   -0.027 bias    0.349\n",
      "iter  661/10000  loss         0.180251  avg_L1_norm_grad         0.000024  w[0]   -0.027 bias    0.349\n",
      "iter  680/10000  loss         0.180248  avg_L1_norm_grad         0.000022  w[0]   -0.027 bias    0.350\n",
      "iter  681/10000  loss         0.180248  avg_L1_norm_grad         0.000022  w[0]   -0.027 bias    0.350\n",
      "iter  700/10000  loss         0.180245  avg_L1_norm_grad         0.000020  w[0]   -0.027 bias    0.351\n",
      "iter  701/10000  loss         0.180245  avg_L1_norm_grad         0.000020  w[0]   -0.027 bias    0.351\n",
      "iter  720/10000  loss         0.180243  avg_L1_norm_grad         0.000018  w[0]   -0.027 bias    0.352\n",
      "iter  721/10000  loss         0.180243  avg_L1_norm_grad         0.000018  w[0]   -0.027 bias    0.352\n",
      "iter  740/10000  loss         0.180241  avg_L1_norm_grad         0.000017  w[0]   -0.027 bias    0.353\n",
      "iter  741/10000  loss         0.180240  avg_L1_norm_grad         0.000017  w[0]   -0.027 bias    0.353\n",
      "iter  760/10000  loss         0.180239  avg_L1_norm_grad         0.000015  w[0]   -0.027 bias    0.354\n",
      "iter  761/10000  loss         0.180239  avg_L1_norm_grad         0.000015  w[0]   -0.027 bias    0.354\n",
      "iter  780/10000  loss         0.180237  avg_L1_norm_grad         0.000014  w[0]   -0.027 bias    0.355\n",
      "iter  781/10000  loss         0.180237  avg_L1_norm_grad         0.000014  w[0]   -0.027 bias    0.355\n",
      "iter  800/10000  loss         0.180236  avg_L1_norm_grad         0.000013  w[0]   -0.027 bias    0.355\n",
      "iter  801/10000  loss         0.180236  avg_L1_norm_grad         0.000013  w[0]   -0.027 bias    0.356\n",
      "iter  820/10000  loss         0.180235  avg_L1_norm_grad         0.000012  w[0]   -0.028 bias    0.356\n",
      "iter  821/10000  loss         0.180235  avg_L1_norm_grad         0.000012  w[0]   -0.028 bias    0.356\n",
      "iter  840/10000  loss         0.180234  avg_L1_norm_grad         0.000011  w[0]   -0.028 bias    0.357\n",
      "iter  841/10000  loss         0.180234  avg_L1_norm_grad         0.000011  w[0]   -0.028 bias    0.357\n",
      "iter  860/10000  loss         0.180233  avg_L1_norm_grad         0.000010  w[0]   -0.028 bias    0.357\n",
      "iter  861/10000  loss         0.180233  avg_L1_norm_grad         0.000010  w[0]   -0.028 bias    0.357\n",
      "iter  880/10000  loss         0.180233  avg_L1_norm_grad         0.000009  w[0]   -0.028 bias    0.358\n",
      "iter  881/10000  loss         0.180233  avg_L1_norm_grad         0.000009  w[0]   -0.028 bias    0.358\n",
      "iter  900/10000  loss         0.180232  avg_L1_norm_grad         0.000008  w[0]   -0.028 bias    0.358\n",
      "iter  901/10000  loss         0.180232  avg_L1_norm_grad         0.000008  w[0]   -0.028 bias    0.359\n",
      "iter  920/10000  loss         0.180232  avg_L1_norm_grad         0.000008  w[0]   -0.028 bias    0.359\n",
      "iter  921/10000  loss         0.180232  avg_L1_norm_grad         0.000008  w[0]   -0.028 bias    0.359\n",
      "iter  940/10000  loss         0.180231  avg_L1_norm_grad         0.000007  w[0]   -0.028 bias    0.359\n",
      "iter  941/10000  loss         0.180231  avg_L1_norm_grad         0.000007  w[0]   -0.028 bias    0.359\n",
      "iter  960/10000  loss         0.180231  avg_L1_norm_grad         0.000007  w[0]   -0.028 bias    0.360\n",
      "iter  961/10000  loss         0.180231  avg_L1_norm_grad         0.000007  w[0]   -0.028 bias    0.360\n",
      "iter  980/10000  loss         0.180231  avg_L1_norm_grad         0.000006  w[0]   -0.028 bias    0.360\n",
      "iter  981/10000  loss         0.180231  avg_L1_norm_grad         0.000006  w[0]   -0.028 bias    0.360\n",
      "iter 1000/10000  loss         0.180231  avg_L1_norm_grad         0.000006  w[0]   -0.028 bias    0.361\n",
      "iter 1001/10000  loss         0.180231  avg_L1_norm_grad         0.000006  w[0]   -0.028 bias    0.361\n",
      "iter 1020/10000  loss         0.180230  avg_L1_norm_grad         0.000005  w[0]   -0.028 bias    0.361\n",
      "iter 1021/10000  loss         0.180230  avg_L1_norm_grad         0.000005  w[0]   -0.028 bias    0.361\n",
      "iter 1040/10000  loss         0.180230  avg_L1_norm_grad         0.000005  w[0]   -0.028 bias    0.361\n",
      "iter 1041/10000  loss         0.180230  avg_L1_norm_grad         0.000005  w[0]   -0.028 bias    0.361\n",
      "iter 1060/10000  loss         0.180230  avg_L1_norm_grad         0.000004  w[0]   -0.028 bias    0.362\n",
      "iter 1061/10000  loss         0.180230  avg_L1_norm_grad         0.000004  w[0]   -0.028 bias    0.362\n",
      "iter 1080/10000  loss         0.180230  avg_L1_norm_grad         0.000004  w[0]   -0.028 bias    0.362\n",
      "iter 1081/10000  loss         0.180230  avg_L1_norm_grad         0.000004  w[0]   -0.028 bias    0.362\n",
      "iter 1100/10000  loss         0.180230  avg_L1_norm_grad         0.000004  w[0]   -0.028 bias    0.362\n",
      "iter 1101/10000  loss         0.180230  avg_L1_norm_grad         0.000004  w[0]   -0.028 bias    0.362\n",
      "iter 1120/10000  loss         0.180230  avg_L1_norm_grad         0.000003  w[0]   -0.028 bias    0.362\n",
      "iter 1121/10000  loss         0.180230  avg_L1_norm_grad         0.000003  w[0]   -0.028 bias    0.362\n",
      "iter 1140/10000  loss         0.180230  avg_L1_norm_grad         0.000003  w[0]   -0.028 bias    0.363\n",
      "iter 1141/10000  loss         0.180230  avg_L1_norm_grad         0.000003  w[0]   -0.028 bias    0.363\n",
      "iter 1160/10000  loss         0.180230  avg_L1_norm_grad         0.000003  w[0]   -0.028 bias    0.363\n",
      "iter 1161/10000  loss         0.180230  avg_L1_norm_grad         0.000003  w[0]   -0.028 bias    0.363\n",
      "iter 1180/10000  loss         0.180230  avg_L1_norm_grad         0.000003  w[0]   -0.028 bias    0.363\n",
      "iter 1181/10000  loss         0.180230  avg_L1_norm_grad         0.000003  w[0]   -0.028 bias    0.363\n",
      "iter 1200/10000  loss         0.180230  avg_L1_norm_grad         0.000002  w[0]   -0.028 bias    0.363\n",
      "iter 1201/10000  loss         0.180230  avg_L1_norm_grad         0.000002  w[0]   -0.028 bias    0.363\n",
      "iter 1220/10000  loss         0.180230  avg_L1_norm_grad         0.000002  w[0]   -0.028 bias    0.363\n",
      "iter 1221/10000  loss         0.180230  avg_L1_norm_grad         0.000002  w[0]   -0.028 bias    0.363\n",
      "Done. Converged after 1223 iterations.\n"
     ]
    }
   ],
   "source": [
    "model = LogisticRegressionGradientDescent(\n",
    "                step_size=0.25, alpha=100,\n",
    "                num_iterations=10000,\n",
    "                init_w_recipe='zeros')\n",
    "model.fit(x_NF, y_N)"
   ]
  },
  {
   "cell_type": "code",
   "execution_count": 8,
   "metadata": {},
   "outputs": [],
   "source": [
    "x_test_NF = np.loadtxt('data_digits_8_vs_9_noisy/x_test.csv', skiprows=1, delimiter=',')\n",
    "\n",
    "yproba1_test_N = model.predict_proba(x_test_NF)[:, 1]\n",
    "\n",
    "np.savetxt('yproba1_test.txt', yproba1_test_N)"
   ]
  },
  {
   "cell_type": "markdown",
   "metadata": {},
   "source": [
    "### Caption for 2E\n",
    "\n",
    "My training set for k folds error rate is 0.0333, while my error rate in the test set is 0.0337 which is slightly higher.\n",
    "My test set results were: \n",
    "error rate: 0.033787191124558746\n",
    "AUROC: 0.9949224942661834\n",
    "\n",
    "See below for the table picture"
   ]
  },
  {
   "cell_type": "code",
   "execution_count": 10,
   "metadata": {},
   "outputs": [
    {
     "data": {
      "image/png": "[encoded data removed]",
      "text/plain": [
       "<IPython.core.display.Image object>"
      ]
     },
     "execution_count": 10,
     "metadata": {},
     "output_type": "execute_result"
    }
   ],
   "source": [
    "from IPython.display import Image\n",
    "Image(\"table.png\")"
   ]
  },
  {
   "cell_type": "code",
   "execution_count": null,
   "metadata": {},
   "outputs": [],
   "source": []
  }
 ],
 "metadata": {
  "kernelspec": {
   "display_name": "Python 3",
   "language": "python",
   "name": "python3"
  },
  "language_info": {
   "codemirror_mode": {
    "name": "ipython",
    "version": 3
   },
   "file_extension": ".py",
   "mimetype": "text/x-python",
   "name": "python",
   "nbconvert_exporter": "python",
   "pygments_lexer": "ipython3",
   "version": "3.6.8"
  }
 },
 "nbformat": 4,
 "nbformat_minor": 2
}
