{
 "cells": [
  {
   "cell_type": "code",
   "execution_count": 1,
   "metadata": {},
   "outputs": [],
   "source": [
    "import sys\n",
    "import os\n",
    "import numpy as np\n",
    "import pandas as pd\n",
    "import sklearn.metrics\n",
    "from matplotlib import pyplot as plt\n",
    "from LRGradientDescentWithFeatureTransform import LRGDWithFeatureTransform"
   ]
  },
  {
   "cell_type": "code",
   "execution_count": 2,
   "metadata": {},
   "outputs": [],
   "source": [
    "x_NF = np.loadtxt('data_sneaker_vs_sandal/x_train.csv',\n",
    "        skiprows=1, delimiter=',')\n",
    "y_N = np.loadtxt('data_sneaker_vs_sandal/y_train.csv',\n",
    "        skiprows=1, delimiter=',')"
   ]
  },
  {
   "cell_type": "code",
   "execution_count": 3,
   "metadata": {},
   "outputs": [
    {
     "data": {
      "text/plain": [
       "LRGDWithFeatureTransform(C=1000, class_weight=None, dual=False,\n",
       "             fit_intercept=True, intercept_scaling=1, max_iter=10000,\n",
       "             multi_class='warn', n_jobs=None, penalty='l2',\n",
       "             random_state=None, solver='lbfgs', tol=0.0001, verbose=0,\n",
       "             warm_start=False)"
      ]
     },
     "execution_count": 3,
     "metadata": {},
     "output_type": "execute_result"
    }
   ],
   "source": [
    "lr = LRGDWithFeatureTransform(C=1000, solver='lbfgs', max_iter=10000)\n",
    "lr.fit(x_NF, y_N)"
   ]
  },
  {
   "cell_type": "code",
   "execution_count": 5,
   "metadata": {},
   "outputs": [],
   "source": [
    "x_test_NF = np.loadtxt('data_sneaker_vs_sandal/x_test.csv', skiprows=1, delimiter=',')\n",
    "\n",
    "yproba1_test_N = lr.predict_proba(x_test_NF)[:, 1]\n",
    "\n",
    "np.savetxt('yproba1_test.txt', yproba1_test_N)"
   ]
  },
  {
   "cell_type": "code",
   "execution_count": null,
   "metadata": {},
   "outputs": [],
   "source": []
  }
 ],
 "metadata": {
  "kernelspec": {
   "display_name": "Python 3",
   "language": "python",
   "name": "python3"
  },
  "language_info": {
   "codemirror_mode": {
    "name": "ipython",
    "version": 3
   },
   "file_extension": ".py",
   "mimetype": "text/x-python",
   "name": "python",
   "nbconvert_exporter": "python",
   "pygments_lexer": "ipython3",
   "version": "3.6.8"
  }
 },
 "nbformat": 4,
 "nbformat_minor": 2
}
