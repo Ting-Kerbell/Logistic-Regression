{
 "cells": [
  {
   "cell_type": "code",
   "execution_count": 2,
   "metadata": {},
   "outputs": [],
   "source": [
    "import numpy as np\n",
    "from scipy.special import logsumexp\n",
    "from matplotlib import pyplot as plt\n",
    "from scipy.special import expit as sigmoid_stable\n",
    "\n",
    "from LRGradientDescent import LogisticRegressionGradientDescent\n",
    "\n",
    "#Change trace W to linspace(-2,12,100) and calc loss and grad with it"
   ]
  },
  {
   "cell_type": "code",
   "execution_count": 3,
   "metadata": {},
   "outputs": [
    {
     "name": "stdout",
     "output_type": "stream",
     "text": [
      "Checking loss and grad at all zeros w vector\n",
      "w_G = [ 0.  0.]\n",
      "loss(w_G) = 1.000\n",
      "grad(w_G) = [-1.08202128  0.        ]\n",
      "Trying gradient descent\n",
      "Initializing w_G with 2 features using recipe: zeros\n",
      "Running up to 10000 iters of gradient descent with step_size 1\n",
      "iter    0/10000  loss         1.000000  avg_L1_norm_grad         0.541011  w[0]    0.000 bias    0.000\n",
      "iter    1/10000  loss         0.282809  avg_L1_norm_grad         0.164186  w[0]    1.082 bias    0.000\n",
      "iter    2/10000  loss         0.196043  avg_L1_norm_grad         0.103757  w[0]    1.410 bias   -0.000\n",
      "iter    3/10000  loss         0.159016  avg_L1_norm_grad         0.075811  w[0]    1.618 bias    0.000\n",
      "iter    4/10000  loss         0.138602  avg_L1_norm_grad         0.059322  w[0]    1.770 bias   -0.000\n",
      "iter    5/10000  loss         0.125859  avg_L1_norm_grad         0.048338  w[0]    1.888 bias    0.000\n",
      "iter    6/10000  loss         0.117289  avg_L1_norm_grad         0.040459  w[0]    1.985 bias    0.000\n",
      "iter    7/10000  loss         0.111230  avg_L1_norm_grad         0.034519  w[0]    2.066 bias    0.000\n",
      "iter    8/10000  loss         0.106788  avg_L1_norm_grad         0.029874  w[0]    2.135 bias    0.000\n",
      "iter    9/10000  loss         0.103444  avg_L1_norm_grad         0.026143  w[0]    2.195 bias    0.000\n",
      "iter   10/10000  loss         0.100872  avg_L1_norm_grad         0.023080  w[0]    2.247 bias    0.000\n",
      "iter   11/10000  loss         0.098860  avg_L1_norm_grad         0.020523  w[0]    2.293 bias    0.000\n",
      "iter   12/10000  loss         0.097265  avg_L1_norm_grad         0.018358  w[0]    2.334 bias    0.000\n",
      "iter   13/10000  loss         0.095986  avg_L1_norm_grad         0.016504  w[0]    2.371 bias    0.000\n",
      "iter   14/10000  loss         0.094949  avg_L1_norm_grad         0.014900  w[0]    2.404 bias    0.000\n",
      "iter   15/10000  loss         0.094103  avg_L1_norm_grad         0.013502  w[0]    2.434 bias    0.000\n",
      "iter   16/10000  loss         0.093407  avg_L1_norm_grad         0.012273  w[0]    2.461 bias    0.000\n",
      "iter   17/10000  loss         0.092832  avg_L1_norm_grad         0.011187  w[0]    2.485 bias    0.000\n",
      "iter   18/10000  loss         0.092353  avg_L1_norm_grad         0.010222  w[0]    2.507 bias    0.000\n",
      "iter   19/10000  loss         0.091952  avg_L1_norm_grad         0.009360  w[0]    2.528 bias   -0.000\n",
      "iter   20/10000  loss         0.091616  avg_L1_norm_grad         0.008587  w[0]    2.547 bias   -0.000\n",
      "iter   21/10000  loss         0.091334  avg_L1_norm_grad         0.007892  w[0]    2.564 bias    0.000\n",
      "iter   40/10000  loss         0.089771  avg_L1_norm_grad         0.001892  w[0]    2.726 bias    0.000\n",
      "iter   41/10000  loss         0.089757  avg_L1_norm_grad         0.001764  w[0]    2.730 bias    0.000\n",
      "iter   60/10000  loss         0.089670  avg_L1_norm_grad         0.000482  w[0]    2.769 bias   -0.000\n",
      "iter   61/10000  loss         0.089669  avg_L1_norm_grad         0.000451  w[0]    2.770 bias   -0.000\n",
      "iter   80/10000  loss         0.089664  avg_L1_norm_grad         0.000127  w[0]    2.780 bias    0.000\n",
      "iter   81/10000  loss         0.089664  avg_L1_norm_grad         0.000119  w[0]    2.780 bias    0.000\n",
      "iter  100/10000  loss         0.089663  avg_L1_norm_grad         0.000034  w[0]    2.783 bias    0.000\n",
      "iter  101/10000  loss         0.089663  avg_L1_norm_grad         0.000032  w[0]    2.783 bias    0.000\n",
      "iter  120/10000  loss         0.089663  avg_L1_norm_grad         0.000009  w[0]    2.784 bias   -0.000\n",
      "iter  121/10000  loss         0.089663  avg_L1_norm_grad         0.000008  w[0]    2.784 bias    0.000\n",
      "iter  140/10000  loss         0.089663  avg_L1_norm_grad         0.000002  w[0]    2.784 bias    0.000\n",
      "iter  141/10000  loss         0.089663  avg_L1_norm_grad         0.000002  w[0]    2.784 bias    0.000\n",
      "iter  160/10000  loss         0.089663  avg_L1_norm_grad         0.000001  w[0]    2.784 bias    0.000\n",
      "iter  161/10000  loss         0.089663  avg_L1_norm_grad         0.000001  w[0]    2.784 bias    0.000\n",
      "iter  180/10000  loss         0.089663  avg_L1_norm_grad         0.000000  w[0]    2.784 bias   -0.000\n",
      "iter  181/10000  loss         0.089663  avg_L1_norm_grad         0.000000  w[0]    2.784 bias   -0.000\n",
      "iter  200/10000  loss         0.089663  avg_L1_norm_grad         0.000000  w[0]    2.784 bias    0.000\n",
      "Done. Converged after 200 iterations.\n"
     ]
    }
   ],
   "source": [
    "N = 10\n",
    "x_NF = np.hstack([np.linspace(-2, -1, 5), np.linspace(1,2, 5)])[:,np.newaxis]\n",
    "y_N = np.hstack([np.zeros(5), 1.0 * np.ones(5)])\n",
    "lr = LogisticRegressionGradientDescent(\n",
    "        alpha=0.1, step_size=1.0, init_w_recipe='zeros')\n",
    "\n",
    "    # Prepare features by inserting column of all 1\n",
    "xbias_NG = lr.insert_final_col_of_all_ones(x_NF)\n",
    "\n",
    "print(\"Checking loss and grad at all zeros w vector\")\n",
    "w_G = np.zeros(2)\n",
    "print(\"w_G = %s\" % str(w_G))\n",
    "print(\"loss(w_G) = %.3f\" % lr.calc_loss(w_G, xbias_NG, y_N))\n",
    "print(\"grad(w_G) = %s\" % str(lr.calc_grad(w_G, xbias_NG, y_N)))\n",
    "\n",
    "print(\"Trying gradient descent\")\n",
    "lr.fit(x_NF, y_N)\n",
    "   "
   ]
  },
  {
   "cell_type": "code",
   "execution_count": 23,
   "metadata": {},
   "outputs": [
    {
     "data": {
      "image/png": "[encoded data removed]",
      "text/plain": [
       "<Figure size 432x288 with 2 Axes>"
      ]
     },
     "metadata": {
      "needs_background": "light"
     },
     "output_type": "display_data"
    }
   ],
   "source": [
    "fake_weights_N= np.hstack([np.linspace(-2, 12, 100)[np.newaxis].T, np.zeros((100, 1))])\n",
    "fake_weights_N= np.linspace(-2, 12, 100)\n",
    "losslist = []\n",
    "gradlist = []\n",
    "for i in fake_weights_N:\n",
    "    losslist.append(lr.calc_loss(i[np.newaxis], x_NF, y_N))\n",
    "    gradlist.append(lr.calc_grad(i[np.newaxis], x_NF, y_N))\n",
    "f, (ax1, ax2) = plt.subplots(1, 2, sharex=False)\n",
    "ax1.plot(fake_weights_N, losslist)\n",
    "\n",
    "ax1.set_title('Loss against weight')\n",
    "ax2.set_title('Gradient L against weight')\n",
    "ax2.plot(fake_weights_N, gradlist)\n",
    "f.savefig(\"1a.pdf\", bbox_inches='tight')\n",
    "    \n",
    "    "
   ]
  },
  {
   "cell_type": "markdown",
   "metadata": {},
   "source": [
    "### 1a caption\n",
    "\n",
    "Visually inspect your plot. Does the loss trend make sense? Does the gradient look as expected? Justify your answers in the caption.\n",
    "\n",
    "\n",
    "The loss trend makes sense because as my weights had increased, the loss decreases due to the fact I had no bias in my regression. Therefore, as the slope increased, it became a better fit to the points given. The decrease in loss flat lines towards the end because it seemed to have found the right weight. The gradient also makes sense because it descends while increasing the weight. The steepness also decreases towards the end because it converges which makes sense.\n",
    "\n"
   ]
  },
  {
   "cell_type": "markdown",
   "metadata": {},
   "source": [
    "Also, by inspecting the loss plot, what is the approximate minimizing value $w^∗_1$ (within one or two decimal places)? Record this in your caption.\n",
    "\n",
    "The weight it converges on is 2.784"
   ]
  },
  {
   "cell_type": "code",
   "execution_count": 24,
   "metadata": {},
   "outputs": [
    {
     "data": {
      "image/png": "[encoded data removed]",
      "text/plain": [
       "<Figure size 432x288 with 1 Axes>"
      ]
     },
     "metadata": {
      "needs_background": "light"
     },
     "output_type": "display_data"
    }
   ],
   "source": [
    "'''\n",
    "f, (ax1, ax2) = plt.subplots(1, 2, sharex=False)\n",
    "ax1.plot(lr.trace_steps, np.array(lr.trace_w)[:,0])\n",
    "plt.plot() \n",
    "ax1.set_title('Weight against Iterations')\n",
    "ax2.set_title('Bias vs Iterations')\n",
    "ax2.plot(lr.trace_steps, np.array(lr.trace_w)[:,1])\n",
    "ax2.set_ylim([-1,2.5])\n",
    "f.savefig(\"1b.pdf\", bbox_inches='tight')\n",
    "''' \n",
    "plt.plot(lr.trace_steps, np.array(lr.trace_w)[:,0], label = \"weight\")\n",
    "plt.plot(lr.trace_steps, np.array(lr.trace_w)[:,1], label = \"bias\")\n",
    "plt.legend()\n",
    "plt.savefig(\"1b.pdf\", bbox_inches='tight')"
   ]
  },
  {
   "cell_type": "markdown",
   "metadata": {},
   "source": [
    "### 1b Caption\n",
    "\n",
    "Do you see the expected trend?\n",
    "\n",
    "I do see my expected trend because my weight increased to fit the data well. The bias stays the same because it is not needed to increase the bias to fit the data given. Therefore, an increase in weight is necessary. "
   ]
  },
  {
   "cell_type": "code",
   "execution_count": 6,
   "metadata": {},
   "outputs": [
    {
     "name": "stdout",
     "output_type": "stream",
     "text": [
      "Checking loss and grad at all zeros w vector\n",
      "w_G = [ 0.  0.]\n",
      "loss(w_G) = 1.000\n",
      "grad(w_G) = [-1.08202128  0.        ]\n",
      "Trying gradient descent\n",
      "Initializing w_G with 2 features using recipe: uniform_-1_to_1\n",
      "Running up to 10000 iters of gradient descent with step_size 1\n",
      "iter    0/10000  loss         0.932814  avg_L1_norm_grad         0.579579  w[0]    0.098 bias    0.430\n",
      "iter    1/10000  loss         0.285311  avg_L1_norm_grad         0.192917  w[0]    1.099 bias    0.272\n",
      "iter    2/10000  loss         0.196351  avg_L1_norm_grad         0.119929  w[0]    1.427 bias    0.214\n",
      "iter    3/10000  loss         0.158926  avg_L1_norm_grad         0.086791  w[0]    1.633 bias    0.180\n",
      "iter    4/10000  loss         0.138434  avg_L1_norm_grad         0.067501  w[0]    1.783 bias    0.157\n",
      "iter    5/10000  loss         0.125692  avg_L1_norm_grad         0.054780  w[0]    1.900 bias    0.139\n",
      "iter    6/10000  loss         0.117144  avg_L1_norm_grad         0.045726  w[0]    1.996 bias    0.125\n",
      "iter    7/10000  loss         0.111109  avg_L1_norm_grad         0.038941  w[0]    2.076 bias    0.114\n",
      "iter    8/10000  loss         0.106691  avg_L1_norm_grad         0.033662  w[0]    2.144 bias    0.104\n",
      "iter    9/10000  loss         0.103366  avg_L1_norm_grad         0.029438  w[0]    2.203 bias    0.096\n",
      "iter   10/10000  loss         0.100810  avg_L1_norm_grad         0.025983  w[0]    2.254 bias    0.089\n",
      "iter   11/10000  loss         0.098812  avg_L1_norm_grad         0.023106  w[0]    2.300 bias    0.082\n",
      "iter   12/10000  loss         0.097227  avg_L1_norm_grad         0.020675  w[0]    2.340 bias    0.077\n",
      "iter   13/10000  loss         0.095957  avg_L1_norm_grad         0.018597  w[0]    2.377 bias    0.071\n",
      "iter   14/10000  loss         0.094927  avg_L1_norm_grad         0.016803  w[0]    2.409 bias    0.067\n",
      "iter   15/10000  loss         0.094087  avg_L1_norm_grad         0.015240  w[0]    2.439 bias    0.063\n",
      "iter   16/10000  loss         0.093396  avg_L1_norm_grad         0.013868  w[0]    2.465 bias    0.059\n",
      "iter   17/10000  loss         0.092824  avg_L1_norm_grad         0.012656  w[0]    2.490 bias    0.055\n",
      "iter   18/10000  loss         0.092348  avg_L1_norm_grad         0.011579  w[0]    2.512 bias    0.052\n",
      "iter   19/10000  loss         0.091950  avg_L1_norm_grad         0.010618  w[0]    2.532 bias    0.049\n",
      "iter   20/10000  loss         0.091616  avg_L1_norm_grad         0.009756  w[0]    2.550 bias    0.046\n",
      "iter   21/10000  loss         0.091334  avg_L1_norm_grad         0.008981  w[0]    2.567 bias    0.044\n",
      "iter   40/10000  loss         0.089773  avg_L1_norm_grad         0.002252  w[0]    2.727 bias    0.016\n",
      "iter   41/10000  loss         0.089759  avg_L1_norm_grad         0.002106  w[0]    2.731 bias    0.015\n",
      "iter   60/10000  loss         0.089671  avg_L1_norm_grad         0.000617  w[0]    2.769 bias    0.006\n",
      "iter   61/10000  loss         0.089670  avg_L1_norm_grad         0.000579  w[0]    2.770 bias    0.006\n",
      "iter   80/10000  loss         0.089664  avg_L1_norm_grad         0.000179  w[0]    2.780 bias    0.002\n",
      "iter   81/10000  loss         0.089664  avg_L1_norm_grad         0.000169  w[0]    2.780 bias    0.002\n",
      "iter  100/10000  loss         0.089663  avg_L1_norm_grad         0.000054  w[0]    2.783 bias    0.001\n",
      "iter  101/10000  loss         0.089663  avg_L1_norm_grad         0.000051  w[0]    2.783 bias    0.001\n",
      "iter  120/10000  loss         0.089663  avg_L1_norm_grad         0.000017  w[0]    2.784 bias    0.000\n",
      "iter  121/10000  loss         0.089663  avg_L1_norm_grad         0.000016  w[0]    2.784 bias    0.000\n",
      "iter  140/10000  loss         0.089663  avg_L1_norm_grad         0.000006  w[0]    2.784 bias    0.000\n",
      "iter  141/10000  loss         0.089663  avg_L1_norm_grad         0.000005  w[0]    2.784 bias    0.000\n",
      "iter  160/10000  loss         0.089663  avg_L1_norm_grad         0.000002  w[0]    2.784 bias    0.000\n",
      "iter  161/10000  loss         0.089663  avg_L1_norm_grad         0.000002  w[0]    2.784 bias    0.000\n",
      "Done. Converged after 165 iterations.\n"
     ]
    }
   ],
   "source": [
    "lr = LogisticRegressionGradientDescent(\n",
    "        alpha=0.1, step_size=1.0, init_w_recipe='uniform_-1_to_1')\n",
    "\n",
    "    # Prepare features by inserting column of all 1\n",
    "xbias_NG = lr.insert_final_col_of_all_ones(x_NF)\n",
    "\n",
    "print(\"Checking loss and grad at all zeros w vector\")\n",
    "w_G = np.zeros(2)\n",
    "print(\"w_G = %s\" % str(w_G))\n",
    "print(\"loss(w_G) = %.3f\" % lr.calc_loss(w_G, xbias_NG, y_N))\n",
    "print(\"grad(w_G) = %s\" % str(lr.calc_grad(w_G, xbias_NG, y_N)))\n",
    "\n",
    "print(\"Trying gradient descent\")\n",
    "lr.fit(x_NF, y_N)\n"
   ]
  },
  {
   "cell_type": "code",
   "execution_count": 7,
   "metadata": {},
   "outputs": [
    {
     "data": {
      "image/png": "[encoded data removed]",
      "text/plain": [
       "<Figure size 432x288 with 2 Axes>"
      ]
     },
     "metadata": {
      "needs_background": "light"
     },
     "output_type": "display_data"
    }
   ],
   "source": [
    "f, (ax1, ax2) = plt.subplots(1, 2, sharex=False)\n",
    "ax1.plot(lr.trace_steps, np.array(lr.trace_w)[:,0])\n",
    "  \n",
    "ax1.set_title('Weight against Iterations')\n",
    "ax2.set_title('Bias vs Iterations')\n",
    "ax2.plot(lr.trace_steps, np.array(lr.trace_w)[:,1])\n",
    "f.savefig(\"1c.pdf\", bbox_inches='tight')"
   ]
  },
  {
   "cell_type": "markdown",
   "metadata": {},
   "source": [
    "### 1C caption\n",
    "\n",
    "Do you see the expected trend?\n",
    "\n",
    "Yes because despite the different initial recipe, it converges to the same values as before, with a bias of 0, and a slope of 2.784"
   ]
  },
  {
   "cell_type": "code",
   "execution_count": null,
   "metadata": {},
   "outputs": [],
   "source": []
  }
 ],
 "metadata": {
  "kernelspec": {
   "display_name": "Python 3",
   "language": "python",
   "name": "python3"
  },
  "language_info": {
   "codemirror_mode": {
    "name": "ipython",
    "version": 3
   },
   "file_extension": ".py",
   "mimetype": "text/x-python",
   "name": "python",
   "nbconvert_exporter": "python",
   "pygments_lexer": "ipython3",
   "version": "3.6.8"
  }
 },
 "nbformat": 4,
 "nbformat_minor": 2
}
